{
 "cells": [
  {
   "cell_type": "code",
   "execution_count": null,
   "id": "b4bd0cff-2f08-47de-a9e6-ba127fcf9213",
   "metadata": {},
   "outputs": [],
   "source": [
    "#Importação das bibliotecas\n",
    "import org.apache.iceberg.spark.SparkSchemaUtil\n",
    "import org.apache.iceberg.catalog.Namespace"
   ]
  },
  {
   "cell_type": "code",
   "execution_count": null,
   "id": "4875d649-9940-42c8-8e35-4865110c0046",
   "metadata": {},
   "outputs": [],
   "source": [
    "#Inicializar uma sessão do Spark\n",
    "spark = SparkSession.builder \\\n",
    "    .appName(\"Tabela Iceberg\") \\\n",
    "    .config(\"spark.sql.catalog.default\", \"org.apache.iceberg.spark.SparkCatalog\") \\\n",
    "    .config(\"spark.sql.catalog.spark_catalog\", \"org.apache.iceberg.spark.SparkSessionCatalog\") \\\n",
    "    .getOrCreate()"
   ]
  },
  {
   "cell_type": "code",
   "execution_count": null,
   "id": "e5f84989-272c-483b-9702-fa7c906aee9d",
   "metadata": {},
   "outputs": [],
   "source": [
    "#Como criar uma tabela no Iceberg a seguir:"
   ]
  },
  {
   "cell_type": "code",
   "execution_count": null,
   "id": "5c9dbd25-d893-434b-92a3-1ecb1a8925e2",
   "metadata": {},
   "outputs": [],
   "source": [
    "#Ler o arquivo CSV e criar o DataFrame\n",
    "df = spark.read.csv(\"work/CarPrice_Assignment (2).csv\", header=True, inferSchema=True)"
   ]
  },
  {
   "cell_type": "code",
   "execution_count": null,
   "id": "54604f5a-22d2-434b-8892-976bc1bb9ced",
   "metadata": {},
   "outputs": [],
   "source": [
    "#Criar os dados fictícios\n",
    "dados_ficticios = [\n",
    "  Row(car_ID=206, CarName='toyota camry', fueltype='gas', doornumber='four', carbody='sedan', enginelocation='front', price=20000),\n",
    "  Row(car_ID=207, CarName='honda accord', fueltype='gas', doornumber='two', carbody='convertible', enginelocation='front', price=25000),\n",
    "  Row(car_ID=208, CarName='ford mustang', fueltype='gas', doornumber='two', carbody='hatchback', enginelocation='rear', price=30000)\n",
    "]\n"
   ]
  },
  {
   "cell_type": "code",
   "execution_count": null,
   "id": "48e750bd-1b4b-4ea6-89f3-46928f89f726",
   "metadata": {},
   "outputs": [],
   "source": [
    "#Criar DataFrame com os dados fictícios\n",
    "dados_ficticios_df = spark.createDataFrame(dados_ficticios)\n"
   ]
  },
  {
   "cell_type": "code",
   "execution_count": null,
   "id": "37fe595c-a380-4c07-8aa8-7dc5562e99d8",
   "metadata": {},
   "outputs": [],
   "source": [
    "#Unir os dados do CSV com os dados fictícios\n",
    "novo_df = df_csv.union(dados_ficticios_df)\n"
   ]
  },
  {
   "cell_type": "code",
   "execution_count": null,
   "id": "aa6cc3de-0414-4bce-b593-cdc7ebd14c2c",
   "metadata": {},
   "outputs": [],
   "source": [
    "#Salvar os dados na tabela Iceberg\n",
    "novo_df.write.format(\"iceberg\") \\\n",
    "  .mode(\"overwrite\") \\  #Sobrescrever a tabela existente\n",
    "  .save(\"Tabela Iceberg\")\n"
   ]
  },
  {
   "cell_type": "code",
   "execution_count": null,
   "id": "e1792cc1-ab58-4986-bf7d-a7e844e82698",
   "metadata": {},
   "outputs": [],
   "source": [
    "#Como fazer um UPDATE na tabela Iceberg"
   ]
  },
  {
   "cell_type": "code",
   "execution_count": null,
   "id": "1d9fba66-2d78-4bba-8263-0d459c480212",
   "metadata": {},
   "outputs": [],
   "source": [
    "#Ler os dados da tabela Iceberg para um DataFrame\n",
    "df_iceberg = spark.read.format(\"iceberg\").load(\"work/CarPrice_Assignment (2).csv\")"
   ]
  },
  {
   "cell_type": "code",
   "execution_count": null,
   "id": "59cd7825-21b3-4ed2-8d82-f71f2bfd52c5",
   "metadata": {},
   "outputs": [],
   "source": [
    "#Fazer as atualizações desejadas no DataFrame. Vamos supor que gostariamos de atualizar o preço do carro com car_ID igual a 206 para 22000\n",
    "df_iceberg = df_iceberg.withColumn(\"price\", \n",
    "                                 when(df_iceberg[\"car_ID\"] == 206, 22000)\n",
    "                                 .otherwise(df_iceberg[\"price\"]))"
   ]
  },
  {
   "cell_type": "code",
   "execution_count": null,
   "id": "87834e3f-ea6c-470a-b527-3ac4575c6949",
   "metadata": {},
   "outputs": [],
   "source": [
    "#Salvar o DataFrame atualizado de volta na tabela Iceberg\n",
    "df_iceberg.write.format(\"iceberg\") \\\n",
    "  .mode(\"overwrite\") \\  # Sobrescrever os dados existentes\n",
    "  .save(\"Tabela Iceberg\")"
   ]
  },
  {
   "cell_type": "code",
   "execution_count": null,
   "id": "73fd9333-0282-4041-89e4-c3b5f773763c",
   "metadata": {},
   "outputs": [],
   "source": [
    "#Como fazer um DELETE na tabela Iceberg"
   ]
  },
  {
   "cell_type": "code",
   "execution_count": null,
   "id": "3a195dc4-078d-4c41-8e85-087c64e603ba",
   "metadata": {},
   "outputs": [],
   "source": [
    "#Ler os dados da tabela Iceberg para um DataFrame\n",
    "df_iceberg = spark.read.format(\"iceberg\").load(\"work/CarPrice_Assignment (2).csv\")"
   ]
  },
  {
   "cell_type": "code",
   "execution_count": null,
   "id": "582e964b-9c4f-4d51-84e1-06e03271ae5d",
   "metadata": {},
   "outputs": [],
   "source": [
    "#Aplicar a condição para filtrar os dados que você deseja excluir. Vamos supor que gostariamos de excluir o carro com car_ID igual a 206\n",
    "df_iceberg = df_iceberg.filter(df_iceberg[\"car_ID\"] != 206)"
   ]
  },
  {
   "cell_type": "code",
   "execution_count": null,
   "id": "9eaa6e8d-1464-4663-9402-4577a4a5aa32",
   "metadata": {},
   "outputs": [],
   "source": [
    "#Salvar o DataFrame filtrado de volta na tabela Iceberg\n",
    "df_iceberg.write.format(\"iceberg\") \\\n",
    "  .mode(\"overwrite\") \\  # Sobrescrever os dados existentes\n",
    "  .save(\"Tabela Iceberg\")"
   ]
  }
 ],
 "metadata": {
  "kernelspec": {
   "display_name": "Python 3 (ipykernel)",
   "language": "python",
   "name": "python3"
  },
  "language_info": {
   "codemirror_mode": {
    "name": "ipython",
    "version": 3
   },
   "file_extension": ".py",
   "mimetype": "text/x-python",
   "name": "python",
   "nbconvert_exporter": "python",
   "pygments_lexer": "ipython3",
   "version": "3.10.10"
  }
 },
 "nbformat": 4,
 "nbformat_minor": 5
}
