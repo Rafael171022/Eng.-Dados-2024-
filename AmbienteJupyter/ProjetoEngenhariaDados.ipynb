{
 "cells": [
  {
   "cell_type": "code",
   "execution_count": null,
   "id": "dca7e525-d280-4733-8b4a-3746b89df79c",
   "metadata": {},
   "outputs": [],
   "source": [
    "#Instalação do Delta, PySpark e Apache Iceberg\n",
    "pip install pyspark"
   ]
  },
  {
   "cell_type": "code",
   "execution_count": null,
   "id": "91e95503-3f5c-4f44-bf77-968cfac6699e",
   "metadata": {},
   "outputs": [],
   "source": [
    "pip instal delta "
   ]
  },
  {
   "cell_type": "code",
   "execution_count": null,
   "id": "cd691f5b-4652-498e-99d7-5c807fa2e634",
   "metadata": {},
   "outputs": [],
   "source": [
    "# Importar bibliotecas para usar o Pyspark e Delta\n",
    "from pyspark.sql import SparkSession\n",
    "from pyspark.sql.types import StructType, StructField, StringType, FloatType"
   ]
  },
  {
   "cell_type": "code",
   "execution_count": null,
   "id": "9cd9d77d-9055-45d5-9a3a-ae942265db01",
   "metadata": {},
   "outputs": [],
   "source": [
    "#Iniciar uma sessão no pyspark\n",
    "spark = ( \n",
    "  SparkSession\n",
    "  .builder\n",
    "  .appName(\"DeltaLake\")\n",
    "  .getOrCreate() \n",
    ")"
   ]
  },
  {
   "cell_type": "code",
   "execution_count": null,
   "id": "b44f5d88-2bc3-4635-ba65-559f6a530e17",
   "metadata": {},
   "outputs": [],
   "source": [
    "#Como criar uma tabela no DeltaLake a seguir"
   ]
  },
  {
   "cell_type": "code",
   "execution_count": null,
   "id": "9832f217-e1a7-4ff6-8363-4b4a59ff97fc",
   "metadata": {},
   "outputs": [],
   "source": [
    "#Importar um arquivo CSV\n",
    "df = spark.read.csv(\"work/CarPrice_Assignment (2).csv\", header=True, inferSchema=True)"
   ]
  },
  {
   "cell_type": "code",
   "execution_count": null,
   "id": "a4c7662a-264f-47b4-a8d9-cf551638288f",
   "metadata": {},
   "outputs": [],
   "source": [
    "#Criar uma tabela temporária a partir do DataFrame\n",
    "df.createOrReplaceTempView(\"carros\")"
   ]
  },
  {
   "cell_type": "code",
   "execution_count": null,
   "id": "76d53812-c4d9-4466-bf98-657b1511f548",
   "metadata": {},
   "outputs": [],
   "source": [
    "#Executar uma consulta SQL na tabela temporária\n",
    "resultado = spark.sql(\"SELECT * FROM carros WHERE fueltype = 'gas'\")\n",
    "resultado.show()"
   ]
  },
  {
   "cell_type": "code",
   "execution_count": null,
   "id": "94779bfb-4ea7-467e-8c87-9df15a8bf8f6",
   "metadata": {},
   "outputs": [],
   "source": [
    "#Criar a tabela temporária a partir do DataFrame df\n",
    "df.createOrReplaceTempView(\"carros\")"
   ]
  },
  {
   "cell_type": "code",
   "execution_count": null,
   "id": "f7c24e57-e0c1-4859-ac73-5e3d56bcb1e5",
   "metadata": {},
   "outputs": [],
   "source": [
    "#Criar um DataFrame com os dados fictícios   \n",
    "dados_ficticios = [\n",
    "    Row(car_ID=206, CarName='toyota camry', fueltype='gas', doornumber='four', carbody='sedan', enginelocation='front', price=20000),\n",
    "    Row(car_ID=207, CarName='honda accord', fueltype='gas', doornumber='two', carbody='convertible', enginelocation='front', price=25000),\n",
    "    Row(car_ID=208, CarName='ford mustang', fueltype='gas', doornumber='two', carbody='hatchback', enginelocation='rear', price=30000),\n",
    "    ]\n",
    "dados_ficticios_df = spark.createDataFrame(dados_ficticios)"
   ]
  },
  {
   "cell_type": "code",
   "execution_count": null,
   "id": "18a318d0-7610-4e2a-905d-d467cf2fd766",
   "metadata": {},
   "outputs": [],
   "source": [
    "#Adicionar os dados fictícios à tabela temporária existente\n",
    "dados_ficticios_df.write.mode(\"append\").insertInto(\"carros\")"
   ]
  },
  {
   "cell_type": "code",
   "execution_count": null,
   "id": "9cd49856-3c8a-450c-a1d2-0285d200a862",
   "metadata": {},
   "outputs": [],
   "source": [
    "#Verificar se os dados foram adicionados corretamente à tabela temporária\n",
    "spark.sql(\"SELECT * FROM carros\").show()"
   ]
  },
  {
   "cell_type": "code",
   "execution_count": null,
   "id": "bf498fbd-e7b6-46a3-9de6-851cec0ae360",
   "metadata": {},
   "outputs": [],
   "source": [
    "#Como fazer um UPDATE a seguir:"
   ]
  },
  {
   "cell_type": "code",
   "execution_count": null,
   "id": "3baed104-2d30-44c9-81e2-e8bdb1be66ab",
   "metadata": {},
   "outputs": [],
   "source": [
    "#Ler os dados da tabela temporária \"carros\" em um DataFrame\n",
    "df_carros = spark.sql(\"SELECT * FROM carros\")"
   ]
  },
  {
   "cell_type": "code",
   "execution_count": null,
   "id": "846c1054-5a8f-46dd-851c-a1be43cf1bf4",
   "metadata": {},
   "outputs": [],
   "source": [
    "#Atualizar o preço dos carros da marca \"Toyota\" para um novo preço\n",
    "df_atualizado = df_carros.withColumn(\"price\", when(df_carros[\"CarName\"].like(\"%toyota%\"), novo_preco_toyota).otherwise(df_carros[\"price\"]))\n"
   ]
  },
  {
   "cell_type": "code",
   "execution_count": null,
   "id": "0281173f-e559-4742-a594-f8e7579d7608",
   "metadata": {},
   "outputs": [],
   "source": [
    "#Criar uma nova tabela temporária ou substituir a tabela temporária existente pelo DataFrame atualizado\n",
    "df_atualizado.createOrReplaceTempView(\"carros\")\n"
   ]
  },
  {
   "cell_type": "code",
   "execution_count": null,
   "id": "9d6161f1-39f1-4757-bc0f-7ddb47ca6ecb",
   "metadata": {},
   "outputs": [],
   "source": [
    "#Verificar se os dados foram atualizados corretamente na tabela temporária\n",
    "spark.sql(\"SELECT * FROM carros\").show()\n"
   ]
  },
  {
   "cell_type": "code",
   "execution_count": null,
   "id": "775cb3c5-4bcd-49e4-b87b-ba5aede30556",
   "metadata": {},
   "outputs": [],
   "source": [
    "#Como fazer um DELETE a seguir:"
   ]
  },
  {
   "cell_type": "code",
   "execution_count": null,
   "id": "687d42e3-1bef-4681-9402-a09095b2d04c",
   "metadata": {},
   "outputs": [],
   "source": [
    "#Ler os dados da tabela temporária \"carros\" em um DataFrame\n",
    "df_carros = spark.sql(\"SELECT * FROM carros\")"
   ]
  },
  {
   "cell_type": "code",
   "execution_count": null,
   "id": "3289d569-1b1c-43b2-b31a-4e36ba371364",
   "metadata": {},
   "outputs": [],
   "source": [
    "#Excluir os carros da marca \"Toyota\"\n",
    "df_atualizado = df_carros.filter(~df_carros[\"CarName\"].like(\"%toyota%\"))"
   ]
  },
  {
   "cell_type": "code",
   "execution_count": null,
   "id": "f231573a-e9d0-45f1-b23c-7f542c7615d9",
   "metadata": {},
   "outputs": [],
   "source": [
    "#Criar uma nova tabela temporária ou substituir a tabela temporária existente pelo DataFrame atualizado\n",
    "df_atualizado.createOrReplaceTempView(\"carros\")"
   ]
  },
  {
   "cell_type": "code",
   "execution_count": null,
   "id": "7adcd7d0-d5d3-495b-a642-59c10e0d9e4d",
   "metadata": {},
   "outputs": [],
   "source": [
    "#Verificar se os dados foram excluídos corretamente na tabela temporária\n",
    "spark.sql(\"SELECT * FROM carros\").show()"
   ]
  }
 ],
 "metadata": {
  "kernelspec": {
   "display_name": "Python 3 (ipykernel)",
   "language": "python",
   "name": "python3"
  },
  "language_info": {
   "codemirror_mode": {
    "name": "ipython",
    "version": 3
   },
   "file_extension": ".py",
   "mimetype": "text/x-python",
   "name": "python",
   "nbconvert_exporter": "python",
   "pygments_lexer": "ipython3",
   "version": "3.10.10"
  }
 },
 "nbformat": 4,
 "nbformat_minor": 5
}
